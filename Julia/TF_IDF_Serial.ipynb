{
 "cells": [
  {
   "cell_type": "code",
   "execution_count": 1,
   "metadata": {},
   "outputs": [],
   "source": [
    "import Pkg\n",
    "Pkg.add(\"CSV\")\n",
    "Pkg.update()\n",
    "Pkg.add(\"DataFrames\")\n",
    "Pkg.add(\"DataStructures\")\n",
    "Pkg.add(\"TextAnalysis\")\n",
    "using DataFrames\n",
    "using CSV\n",
    "using TextAnalysis, DataStructures\n",
    "using Dates\n",
    "import Dates"
   ]
  },
  {
   "cell_type": "code",
   "execution_count": 2,
   "metadata": {},
   "outputs": [
    {
     "data": {
      "text/plain": [
       "12:31:36.756"
      ]
     },
     "execution_count": 2,
     "metadata": {},
     "output_type": "execute_result"
    }
   ],
   "source": [
    "startTime = Dates.Time(Dates.now()) "
   ]
  },
  {
   "cell_type": "code",
   "execution_count": 3,
   "metadata": {},
   "outputs": [
    {
     "name": "stderr",
     "output_type": "stream",
     "text": [
      "┌ Warning: thread = 1 warning: only found 14 / 15 columns around data row: 29538. Filling remaining columns with `missing`\n",
      "└ @ CSV /home/joelkik/.julia/packages/CSV/jFiCn/src/file.jl:578\n",
      "┌ Warning: thread = 1 warning: parsed expected 15 columns, but didn't reach end of line around data row: 49395. Parsing extra columns and widening final columnset\n",
      "└ @ CSV /home/joelkik/.julia/packages/CSV/jFiCn/src/file.jl:579\n",
      "┌ Warning: thread = 1 warning: only found 15 / 22 columns around data row: 49396. Filling remaining columns with `missing`\n",
      "└ @ CSV /home/joelkik/.julia/packages/CSV/jFiCn/src/file.jl:578\n",
      "┌ Warning: thread = 1 warning: only found 15 / 22 columns around data row: 49397. Filling remaining columns with `missing`\n",
      "└ @ CSV /home/joelkik/.julia/packages/CSV/jFiCn/src/file.jl:578\n",
      "┌ Warning: thread = 1 warning: only found 15 / 22 columns around data row: 49398. Filling remaining columns with `missing`\n",
      "└ @ CSV /home/joelkik/.julia/packages/CSV/jFiCn/src/file.jl:578\n",
      "┌ Warning: thread = 1 warning: only found 15 / 22 columns around data row: 49399. Filling remaining columns with `missing`\n",
      "└ @ CSV /home/joelkik/.julia/packages/CSV/jFiCn/src/file.jl:578\n",
      "┌ Warning: thread = 1 warning: only found 15 / 22 columns around data row: 49400. Filling remaining columns with `missing`\n",
      "└ @ CSV /home/joelkik/.julia/packages/CSV/jFiCn/src/file.jl:578\n",
      "┌ Warning: thread = 1 warning: only found 15 / 22 columns around data row: 49401. Filling remaining columns with `missing`\n",
      "└ @ CSV /home/joelkik/.julia/packages/CSV/jFiCn/src/file.jl:578\n",
      "┌ Warning: thread = 1 warning: only found 15 / 22 columns around data row: 49402. Filling remaining columns with `missing`\n",
      "└ @ CSV /home/joelkik/.julia/packages/CSV/jFiCn/src/file.jl:578\n",
      "┌ Warning: thread = 1 warning: only found 15 / 22 columns around data row: 49403. Filling remaining columns with `missing`\n",
      "└ @ CSV /home/joelkik/.julia/packages/CSV/jFiCn/src/file.jl:578\n",
      "┌ Warning: thread = 1 warning: only found 15 / 22 columns around data row: 49404. Filling remaining columns with `missing`\n",
      "└ @ CSV /home/joelkik/.julia/packages/CSV/jFiCn/src/file.jl:578\n",
      "┌ Warning: thread = 1 warning: only found 15 / 22 columns around data row: 49405. Filling remaining columns with `missing`\n",
      "└ @ CSV /home/joelkik/.julia/packages/CSV/jFiCn/src/file.jl:578\n",
      "┌ Warning: thread = 1 warning: only found 15 / 22 columns around data row: 49406. Filling remaining columns with `missing`\n",
      "└ @ CSV /home/joelkik/.julia/packages/CSV/jFiCn/src/file.jl:578\n",
      "┌ Warning: thread = 1 warning: only found 15 / 22 columns around data row: 49407. Filling remaining columns with `missing`\n",
      "└ @ CSV /home/joelkik/.julia/packages/CSV/jFiCn/src/file.jl:578\n",
      "┌ Warning: thread = 1 warning: only found 15 / 22 columns around data row: 49408. Filling remaining columns with `missing`\n",
      "└ @ CSV /home/joelkik/.julia/packages/CSV/jFiCn/src/file.jl:578\n",
      "┌ Warning: thread = 1 warning: only found 15 / 22 columns around data row: 49409. Filling remaining columns with `missing`\n",
      "└ @ CSV /home/joelkik/.julia/packages/CSV/jFiCn/src/file.jl:578\n",
      "┌ Warning: thread = 1 warning: only found 15 / 22 columns around data row: 49410. Filling remaining columns with `missing`\n",
      "└ @ CSV /home/joelkik/.julia/packages/CSV/jFiCn/src/file.jl:578\n",
      "┌ Warning: thread = 1 warning: only found 15 / 22 columns around data row: 49411. Filling remaining columns with `missing`\n",
      "└ @ CSV /home/joelkik/.julia/packages/CSV/jFiCn/src/file.jl:578\n",
      "┌ Warning: thread = 1 warning: only found 15 / 22 columns around data row: 49412. Filling remaining columns with `missing`\n",
      "└ @ CSV /home/joelkik/.julia/packages/CSV/jFiCn/src/file.jl:578\n",
      "┌ Warning: thread = 1 warning: only found 15 / 22 columns around data row: 49413. Filling remaining columns with `missing`\n",
      "└ @ CSV /home/joelkik/.julia/packages/CSV/jFiCn/src/file.jl:578\n",
      "┌ Warning: thread = 1 warning: only found 15 / 22 columns around data row: 49414. Filling remaining columns with `missing`\n",
      "└ @ CSV /home/joelkik/.julia/packages/CSV/jFiCn/src/file.jl:578\n",
      "┌ Warning: thread = 1 warning: only found 15 / 22 columns around data row: 49415. Filling remaining columns with `missing`\n",
      "└ @ CSV /home/joelkik/.julia/packages/CSV/jFiCn/src/file.jl:578\n",
      "┌ Warning: thread = 1 warning: only found 15 / 22 columns around data row: 49416. Filling remaining columns with `missing`\n",
      "└ @ CSV /home/joelkik/.julia/packages/CSV/jFiCn/src/file.jl:578\n",
      "┌ Warning: thread = 1 warning: only found 15 / 22 columns around data row: 49417. Filling remaining columns with `missing`\n",
      "└ @ CSV /home/joelkik/.julia/packages/CSV/jFiCn/src/file.jl:578\n",
      "┌ Warning: thread = 1 warning: only found 15 / 22 columns around data row: 49418. Filling remaining columns with `missing`\n",
      "└ @ CSV /home/joelkik/.julia/packages/CSV/jFiCn/src/file.jl:578\n",
      "┌ Warning: thread = 1 warning: only found 15 / 22 columns around data row: 49419. Filling remaining columns with `missing`\n",
      "└ @ CSV /home/joelkik/.julia/packages/CSV/jFiCn/src/file.jl:578\n",
      "┌ Warning: thread = 1 warning: only found 15 / 22 columns around data row: 49420. Filling remaining columns with `missing`\n",
      "└ @ CSV /home/joelkik/.julia/packages/CSV/jFiCn/src/file.jl:578\n",
      "┌ Warning: thread = 1 warning: only found 15 / 22 columns around data row: 49421. Filling remaining columns with `missing`\n",
      "└ @ CSV /home/joelkik/.julia/packages/CSV/jFiCn/src/file.jl:578\n",
      "┌ Warning: thread = 1 warning: only found 15 / 22 columns around data row: 49422. Filling remaining columns with `missing`\n",
      "└ @ CSV /home/joelkik/.julia/packages/CSV/jFiCn/src/file.jl:578\n",
      "┌ Warning: thread = 1 warning: only found 15 / 22 columns around data row: 49423. Filling remaining columns with `missing`\n",
      "└ @ CSV /home/joelkik/.julia/packages/CSV/jFiCn/src/file.jl:578\n",
      "┌ Warning: thread = 1 warning: only found 15 / 22 columns around data row: 49424. Filling remaining columns with `missing`\n",
      "└ @ CSV /home/joelkik/.julia/packages/CSV/jFiCn/src/file.jl:578\n",
      "┌ Warning: thread = 1 warning: only found 15 / 22 columns around data row: 49425. Filling remaining columns with `missing`\n",
      "└ @ CSV /home/joelkik/.julia/packages/CSV/jFiCn/src/file.jl:578\n",
      "┌ Warning: thread = 1 warning: only found 15 / 22 columns around data row: 49426. Filling remaining columns with `missing`\n",
      "└ @ CSV /home/joelkik/.julia/packages/CSV/jFiCn/src/file.jl:578\n",
      "┌ Warning: thread = 1 warning: only found 15 / 22 columns around data row: 49427. Filling remaining columns with `missing`\n",
      "└ @ CSV /home/joelkik/.julia/packages/CSV/jFiCn/src/file.jl:578\n",
      "┌ Warning: thread = 1 warning: only found 15 / 22 columns around data row: 49428. Filling remaining columns with `missing`\n",
      "└ @ CSV /home/joelkik/.julia/packages/CSV/jFiCn/src/file.jl:578\n",
      "┌ Warning: thread = 1 warning: only found 15 / 22 columns around data row: 49429. Filling remaining columns with `missing`\n",
      "└ @ CSV /home/joelkik/.julia/packages/CSV/jFiCn/src/file.jl:578\n",
      "┌ Warning: thread = 1 warning: only found 15 / 22 columns around data row: 49430. Filling remaining columns with `missing`\n",
      "└ @ CSV /home/joelkik/.julia/packages/CSV/jFiCn/src/file.jl:578\n",
      "┌ Warning: thread = 1 warning: only found 15 / 22 columns around data row: 49431. Filling remaining columns with `missing`\n",
      "└ @ CSV /home/joelkik/.julia/packages/CSV/jFiCn/src/file.jl:578\n",
      "┌ Warning: thread = 1 warning: only found 15 / 22 columns around data row: 49432. Filling remaining columns with `missing`\n",
      "└ @ CSV /home/joelkik/.julia/packages/CSV/jFiCn/src/file.jl:578\n",
      "┌ Warning: thread = 1 warning: only found 15 / 22 columns around data row: 49433. Filling remaining columns with `missing`\n",
      "└ @ CSV /home/joelkik/.julia/packages/CSV/jFiCn/src/file.jl:578\n",
      "┌ Warning: thread = 1 warning: only found 15 / 22 columns around data row: 49434. Filling remaining columns with `missing`\n",
      "└ @ CSV /home/joelkik/.julia/packages/CSV/jFiCn/src/file.jl:578\n",
      "┌ Warning: thread = 1 warning: only found 15 / 22 columns around data row: 49435. Filling remaining columns with `missing`\n",
      "└ @ CSV /home/joelkik/.julia/packages/CSV/jFiCn/src/file.jl:578\n",
      "┌ Warning: thread = 1 warning: only found 15 / 22 columns around data row: 49436. Filling remaining columns with `missing`\n",
      "└ @ CSV /home/joelkik/.julia/packages/CSV/jFiCn/src/file.jl:578\n",
      "┌ Warning: thread = 1 warning: only found 15 / 22 columns around data row: 49437. Filling remaining columns with `missing`\n",
      "└ @ CSV /home/joelkik/.julia/packages/CSV/jFiCn/src/file.jl:578\n",
      "┌ Warning: thread = 1 warning: only found 15 / 22 columns around data row: 49438. Filling remaining columns with `missing`\n",
      "└ @ CSV /home/joelkik/.julia/packages/CSV/jFiCn/src/file.jl:578\n",
      "┌ Warning: thread = 1 warning: only found 15 / 22 columns around data row: 49439. Filling remaining columns with `missing`\n",
      "└ @ CSV /home/joelkik/.julia/packages/CSV/jFiCn/src/file.jl:578\n",
      "┌ Warning: thread = 1 warning: only found 15 / 22 columns around data row: 49440. Filling remaining columns with `missing`\n",
      "└ @ CSV /home/joelkik/.julia/packages/CSV/jFiCn/src/file.jl:578\n",
      "┌ Warning: thread = 1 warning: only found 15 / 22 columns around data row: 49441. Filling remaining columns with `missing`\n",
      "└ @ CSV /home/joelkik/.julia/packages/CSV/jFiCn/src/file.jl:578\n",
      "┌ Warning: thread = 1 warning: only found 15 / 22 columns around data row: 49442. Filling remaining columns with `missing`\n",
      "└ @ CSV /home/joelkik/.julia/packages/CSV/jFiCn/src/file.jl:578\n",
      "┌ Warning: thread = 1 warning: only found 15 / 22 columns around data row: 49443. Filling remaining columns with `missing`\n",
      "└ @ CSV /home/joelkik/.julia/packages/CSV/jFiCn/src/file.jl:578\n",
      "┌ Warning: thread = 1 warning: only found 15 / 22 columns around data row: 49444. Filling remaining columns with `missing`\n",
      "└ @ CSV /home/joelkik/.julia/packages/CSV/jFiCn/src/file.jl:578\n",
      "┌ Warning: thread = 1 warning: only found 15 / 22 columns around data row: 49445. Filling remaining columns with `missing`\n",
      "└ @ CSV /home/joelkik/.julia/packages/CSV/jFiCn/src/file.jl:578\n",
      "┌ Warning: thread = 1 warning: only found 15 / 22 columns around data row: 49446. Filling remaining columns with `missing`\n",
      "└ @ CSV /home/joelkik/.julia/packages/CSV/jFiCn/src/file.jl:578\n",
      "┌ Warning: thread = 1 warning: only found 15 / 22 columns around data row: 49447. Filling remaining columns with `missing`\n",
      "└ @ CSV /home/joelkik/.julia/packages/CSV/jFiCn/src/file.jl:578\n",
      "┌ Warning: thread = 1 warning: only found 15 / 22 columns around data row: 49448. Filling remaining columns with `missing`\n",
      "└ @ CSV /home/joelkik/.julia/packages/CSV/jFiCn/src/file.jl:578\n",
      "┌ Warning: thread = 1 warning: only found 15 / 22 columns around data row: 49449. Filling remaining columns with `missing`\n",
      "└ @ CSV /home/joelkik/.julia/packages/CSV/jFiCn/src/file.jl:578\n",
      "┌ Warning: thread = 1 warning: only found 15 / 22 columns around data row: 49450. Filling remaining columns with `missing`\n",
      "└ @ CSV /home/joelkik/.julia/packages/CSV/jFiCn/src/file.jl:578\n",
      "┌ Warning: thread = 1 warning: only found 15 / 22 columns around data row: 49451. Filling remaining columns with `missing`\n",
      "└ @ CSV /home/joelkik/.julia/packages/CSV/jFiCn/src/file.jl:578\n",
      "┌ Warning: thread = 1 warning: only found 15 / 22 columns around data row: 49452. Filling remaining columns with `missing`\n",
      "└ @ CSV /home/joelkik/.julia/packages/CSV/jFiCn/src/file.jl:578\n",
      "┌ Warning: thread = 1 warning: only found 15 / 22 columns around data row: 49453. Filling remaining columns with `missing`\n",
      "└ @ CSV /home/joelkik/.julia/packages/CSV/jFiCn/src/file.jl:578\n",
      "┌ Warning: thread = 1 warning: only found 15 / 22 columns around data row: 49454. Filling remaining columns with `missing`\n",
      "└ @ CSV /home/joelkik/.julia/packages/CSV/jFiCn/src/file.jl:578\n",
      "┌ Warning: thread = 1 warning: only found 15 / 22 columns around data row: 49455. Filling remaining columns with `missing`\n",
      "└ @ CSV /home/joelkik/.julia/packages/CSV/jFiCn/src/file.jl:578\n",
      "┌ Warning: thread = 1 warning: only found 15 / 22 columns around data row: 49456. Filling remaining columns with `missing`\n",
      "└ @ CSV /home/joelkik/.julia/packages/CSV/jFiCn/src/file.jl:578\n",
      "┌ Warning: thread = 1 warning: only found 15 / 22 columns around data row: 49457. Filling remaining columns with `missing`\n",
      "└ @ CSV /home/joelkik/.julia/packages/CSV/jFiCn/src/file.jl:578\n",
      "┌ Warning: thread = 1 warning: only found 15 / 22 columns around data row: 49458. Filling remaining columns with `missing`\n",
      "└ @ CSV /home/joelkik/.julia/packages/CSV/jFiCn/src/file.jl:578\n",
      "┌ Warning: thread = 1 warning: only found 15 / 22 columns around data row: 49459. Filling remaining columns with `missing`\n",
      "└ @ CSV /home/joelkik/.julia/packages/CSV/jFiCn/src/file.jl:578\n",
      "┌ Warning: thread = 1 warning: only found 15 / 22 columns around data row: 49460. Filling remaining columns with `missing`\n",
      "└ @ CSV /home/joelkik/.julia/packages/CSV/jFiCn/src/file.jl:578\n",
      "┌ Warning: thread = 1 warning: only found 15 / 22 columns around data row: 49461. Filling remaining columns with `missing`\n",
      "└ @ CSV /home/joelkik/.julia/packages/CSV/jFiCn/src/file.jl:578\n",
      "┌ Warning: thread = 1 warning: only found 15 / 22 columns around data row: 49462. Filling remaining columns with `missing`\n",
      "└ @ CSV /home/joelkik/.julia/packages/CSV/jFiCn/src/file.jl:578\n",
      "┌ Warning: thread = 1 warning: only found 15 / 22 columns around data row: 49463. Filling remaining columns with `missing`\n",
      "└ @ CSV /home/joelkik/.julia/packages/CSV/jFiCn/src/file.jl:578\n",
      "┌ Warning: thread = 1 warning: only found 15 / 22 columns around data row: 49464. Filling remaining columns with `missing`\n",
      "└ @ CSV /home/joelkik/.julia/packages/CSV/jFiCn/src/file.jl:578\n",
      "┌ Warning: thread = 1 warning: only found 15 / 22 columns around data row: 49465. Filling remaining columns with `missing`\n",
      "└ @ CSV /home/joelkik/.julia/packages/CSV/jFiCn/src/file.jl:578\n",
      "┌ Warning: thread = 1 warning: only found 15 / 22 columns around data row: 49466. Filling remaining columns with `missing`\n",
      "└ @ CSV /home/joelkik/.julia/packages/CSV/jFiCn/src/file.jl:578\n",
      "┌ Warning: thread = 1 warning: only found 15 / 22 columns around data row: 49467. Filling remaining columns with `missing`\n",
      "└ @ CSV /home/joelkik/.julia/packages/CSV/jFiCn/src/file.jl:578\n",
      "┌ Warning: thread = 1 warning: only found 15 / 22 columns around data row: 49468. Filling remaining columns with `missing`\n",
      "└ @ CSV /home/joelkik/.julia/packages/CSV/jFiCn/src/file.jl:578\n",
      "┌ Warning: thread = 1 warning: only found 15 / 22 columns around data row: 49469. Filling remaining columns with `missing`\n",
      "└ @ CSV /home/joelkik/.julia/packages/CSV/jFiCn/src/file.jl:578\n",
      "┌ Warning: thread = 1 warning: only found 15 / 22 columns around data row: 49470. Filling remaining columns with `missing`\n",
      "└ @ CSV /home/joelkik/.julia/packages/CSV/jFiCn/src/file.jl:578\n",
      "┌ Warning: thread = 1 warning: only found 15 / 22 columns around data row: 49471. Filling remaining columns with `missing`\n",
      "└ @ CSV /home/joelkik/.julia/packages/CSV/jFiCn/src/file.jl:578\n",
      "┌ Warning: thread = 1 warning: only found 15 / 22 columns around data row: 49472. Filling remaining columns with `missing`\n",
      "└ @ CSV /home/joelkik/.julia/packages/CSV/jFiCn/src/file.jl:578\n",
      "┌ Warning: thread = 1 warning: only found 15 / 22 columns around data row: 49473. Filling remaining columns with `missing`\n",
      "└ @ CSV /home/joelkik/.julia/packages/CSV/jFiCn/src/file.jl:578\n",
      "┌ Warning: thread = 1 warning: only found 15 / 22 columns around data row: 49474. Filling remaining columns with `missing`\n",
      "└ @ CSV /home/joelkik/.julia/packages/CSV/jFiCn/src/file.jl:578\n",
      "┌ Warning: thread = 1 warning: only found 15 / 22 columns around data row: 49475. Filling remaining columns with `missing`\n",
      "└ @ CSV /home/joelkik/.julia/packages/CSV/jFiCn/src/file.jl:578\n",
      "┌ Warning: thread = 1 warning: only found 15 / 22 columns around data row: 49476. Filling remaining columns with `missing`\n",
      "└ @ CSV /home/joelkik/.julia/packages/CSV/jFiCn/src/file.jl:578\n",
      "┌ Warning: thread = 1 warning: only found 15 / 22 columns around data row: 49477. Filling remaining columns with `missing`\n",
      "└ @ CSV /home/joelkik/.julia/packages/CSV/jFiCn/src/file.jl:578\n",
      "┌ Warning: thread = 1 warning: only found 15 / 22 columns around data row: 49478. Filling remaining columns with `missing`\n",
      "└ @ CSV /home/joelkik/.julia/packages/CSV/jFiCn/src/file.jl:578\n",
      "┌ Warning: thread = 1 warning: only found 15 / 22 columns around data row: 49479. Filling remaining columns with `missing`\n",
      "└ @ CSV /home/joelkik/.julia/packages/CSV/jFiCn/src/file.jl:578\n",
      "┌ Warning: thread = 1 warning: only found 15 / 22 columns around data row: 49480. Filling remaining columns with `missing`\n",
      "└ @ CSV /home/joelkik/.julia/packages/CSV/jFiCn/src/file.jl:578\n",
      "┌ Warning: thread = 1 warning: only found 15 / 22 columns around data row: 49481. Filling remaining columns with `missing`\n",
      "└ @ CSV /home/joelkik/.julia/packages/CSV/jFiCn/src/file.jl:578\n",
      "┌ Warning: thread = 1 warning: only found 15 / 22 columns around data row: 49482. Filling remaining columns with `missing`\n",
      "└ @ CSV /home/joelkik/.julia/packages/CSV/jFiCn/src/file.jl:578\n",
      "┌ Warning: thread = 1 warning: only found 15 / 22 columns around data row: 49483. Filling remaining columns with `missing`\n",
      "└ @ CSV /home/joelkik/.julia/packages/CSV/jFiCn/src/file.jl:578\n",
      "┌ Warning: thread = 1 warning: only found 15 / 22 columns around data row: 49484. Filling remaining columns with `missing`\n",
      "└ @ CSV /home/joelkik/.julia/packages/CSV/jFiCn/src/file.jl:578\n",
      "┌ Warning: thread = 1 warning: only found 15 / 22 columns around data row: 49485. Filling remaining columns with `missing`\n",
      "└ @ CSV /home/joelkik/.julia/packages/CSV/jFiCn/src/file.jl:578\n",
      "┌ Warning: thread = 1 warning: only found 15 / 22 columns around data row: 49486. Filling remaining columns with `missing`\n",
      "└ @ CSV /home/joelkik/.julia/packages/CSV/jFiCn/src/file.jl:578\n",
      "┌ Warning: thread = 1 warning: only found 15 / 22 columns around data row: 49487. Filling remaining columns with `missing`\n",
      "└ @ CSV /home/joelkik/.julia/packages/CSV/jFiCn/src/file.jl:578\n",
      "┌ Warning: thread = 1 warning: only found 15 / 22 columns around data row: 49488. Filling remaining columns with `missing`\n",
      "└ @ CSV /home/joelkik/.julia/packages/CSV/jFiCn/src/file.jl:578\n",
      "┌ Warning: thread = 1 warning: only found 15 / 22 columns around data row: 49489. Filling remaining columns with `missing`\n",
      "└ @ CSV /home/joelkik/.julia/packages/CSV/jFiCn/src/file.jl:578\n",
      "┌ Warning: thread = 1 warning: only found 15 / 22 columns around data row: 49490. Filling remaining columns with `missing`\n",
      "└ @ CSV /home/joelkik/.julia/packages/CSV/jFiCn/src/file.jl:578\n",
      "┌ Warning: thread = 1 warning: only found 15 / 22 columns around data row: 49491. Filling remaining columns with `missing`\n",
      "└ @ CSV /home/joelkik/.julia/packages/CSV/jFiCn/src/file.jl:578\n",
      "┌ Warning: thread = 1 warning: only found 15 / 22 columns around data row: 49492. Filling remaining columns with `missing`\n",
      "└ @ CSV /home/joelkik/.julia/packages/CSV/jFiCn/src/file.jl:578\n",
      "┌ Warning: thread = 1 warning: only found 15 / 22 columns around data row: 49493. Filling remaining columns with `missing`\n",
      "└ @ CSV /home/joelkik/.julia/packages/CSV/jFiCn/src/file.jl:578\n",
      "┌ Warning: thread = 1 warning: only found 15 / 22 columns around data row: 49494. Filling remaining columns with `missing`\n",
      "└ @ CSV /home/joelkik/.julia/packages/CSV/jFiCn/src/file.jl:578\n",
      "┌ Warning: thread = 1 warning: only found 15 / 22 columns around data row: 49495. Filling remaining columns with `missing`\n",
      "└ @ CSV /home/joelkik/.julia/packages/CSV/jFiCn/src/file.jl:578\n",
      "┌ Warning: thread = 1: too many warnings, silencing any further warnings\n",
      "└ @ CSV /home/joelkik/.julia/packages/CSV/jFiCn/src/file.jl:583\n"
     ]
    },
    {
     "data": {
      "text/html": [
       "<div class=\"data-frame\"><p>5,881,951 rows × 22 columns (omitted printing of 16 columns)</p><table class=\"data-frame\"><thead><tr><th></th><th>marketplace</th><th>customer_id</th><th>review_id</th><th>product_id</th><th>product_parent</th><th>product_title</th></tr><tr><th></th><th title=\"String3\">String3</th><th title=\"Int64\">Int64</th><th title=\"String15\">String15</th><th title=\"String15\">String15</th><th title=\"Int64\">Int64</th><th title=\"String\">String</th></tr></thead><tbody><tr><th>1</th><td>US</td><td>32158956</td><td>R1KKOXHNI8MSXU</td><td>B01KL6O72Y</td><td>24485154</td><td>Easy Tool Stainless Steel Fruit Pineapple Corer Slicer Peeler Cut (One size, sliver)</td></tr><tr><th>2</th><td>US</td><td>2714559</td><td>R26SP2OPDK4HT7</td><td>B01ID3ZS5W</td><td>363128556</td><td>V28 Women Cowl Neck Knit Stretchable Elasticity Long Sleeve Slim Fit Sweater Dress</td></tr><tr><th>3</th><td>US</td><td>12608825</td><td>RWQEDYAX373I1</td><td>B01I497BGY</td><td>811958549</td><td>James Fiallo Men&apos;s 12-Pairs Low Cut Athletic Sport Socks</td></tr><tr><th>4</th><td>US</td><td>25482800</td><td>R231YI7R4GPF6J</td><td>B01HDXFZK6</td><td>692205728</td><td>Belfry Gangster 100% Wool Stain-Resistant Crushable Dress Fedora in 4 Colors</td></tr><tr><th>5</th><td>US</td><td>9310286</td><td>R3KO3W45DD0L1K</td><td>B01G6MBEBY</td><td>431150422</td><td>JAEDEN Women&apos;s Beaded Spaghetti Straps Sexy Long Formal Prom Evening Dresses</td></tr><tr><th>6</th><td>US</td><td>26631939</td><td>R1C4QH63NFL5NJ</td><td>B01FWRXN0Y</td><td>366144407</td><td>Levi&apos;s Boys&apos; 514 Straight Fit Jeans</td></tr><tr><th>7</th><td>US</td><td>48785098</td><td>R2GP65O1U9N7BP</td><td>B01EXNH1HE</td><td>786052021</td><td>Minimalist Wallet &amp; Credit Card Holder Men with Slim Design by Raw</td></tr><tr><th>8</th><td>US</td><td>39548589</td><td>R3O29CT5MQQ3XQ</td><td>B01E7OL09O</td><td>108920964</td><td>Harriton Men&apos;s Barbados Textured Camp Shirt</td></tr><tr><th>9</th><td>US</td><td>29355866</td><td>R1ZECD2AA8QFF6</td><td>B01DXHX81O</td><td>317132458</td><td>Jockey Women&apos;s Underwear Supersoft Brief - 3 Pack</td></tr><tr><th>10</th><td>US</td><td>27477484</td><td>R2S79GCF6J89OA</td><td>B01DDULIJK</td><td>110598191</td><td>Alexander Del Rossa Mens Satin Pajamas, Short V-Neck Pj Set</td></tr><tr><th>11</th><td>US</td><td>17685865</td><td>R1CBCUGNP37MPK</td><td>B01BOKOL4A</td><td>121408017</td><td>Jockey Women&apos;s Underwear Elance Brief - 3 Pack</td></tr><tr><th>12</th><td>US</td><td>19787539</td><td>R3NU4WUR5ZNV1V</td><td>B01B3Q4Q0O</td><td>134506082</td><td>Bali Passion For Comfort Minimizer Underwire Bra</td></tr><tr><th>13</th><td>US</td><td>44196725</td><td>R32EPCJ3XF8LGE</td><td>B01ADDSL9U</td><td>747539045</td><td>Lilyette Women&apos;s Enchantment Three-Section Unlined Minimizer Underwire Bra</td></tr><tr><th>14</th><td>US</td><td>45510794</td><td>R1XIBC6WQBW31M</td><td>B019P1X5XI</td><td>696379847</td><td>Vanity Fair Women&apos;s Perfectly Yours Ravissant Tailored Brief Panty</td></tr><tr><th>15</th><td>US</td><td>42025740</td><td>R1P11MVDZ65LMH</td><td>B019MDXIXG</td><td>387286513</td><td>Warner&apos;s Women&apos;s No Wedgies No Worries Modern Brief Panty</td></tr><tr><th>16</th><td>US</td><td>27097189</td><td>R1OJA3DJL0VDDK</td><td>B019438FEG</td><td>764190574</td><td>Columbia Women&apos;s Benton Springs Full-Zip Fleece Jacket</td></tr><tr><th>17</th><td>US</td><td>13808904</td><td>R1THWA5YRJLOOF</td><td>B0178HGNIA</td><td>816266887</td><td>Robes King RK Classical Sleepwear Mens Broadcloth Woven Pajama Set</td></tr><tr><th>18</th><td>US</td><td>30225894</td><td>R738LCNRSJVXP</td><td>B016VIU0QI</td><td>323924698</td><td>VIV Collection Best Selling Printed Brushed Leggings Plus Size (L - XXL) Listing 1</td></tr><tr><th>19</th><td>US</td><td>45223824</td><td>R1N3Z13931J3O9</td><td>B016PUU3VO</td><td>893588059</td><td>Fruit of the Loom Boys&apos; A-Shirt (Pack of 4)</td></tr><tr><th>20</th><td>US</td><td>22300783</td><td>R1LBNTP7E8N89Z</td><td>B016AQNDM4</td><td>917361125</td><td>Jockey Scrubs Womens Maximum Comfort Pant</td></tr><tr><th>21</th><td>US</td><td>27454671</td><td>R2HF25IURR6YT4</td><td>B01694YS8K</td><td>708072532</td><td>Angelina Womens Cozy Pajama Set</td></tr><tr><th>22</th><td>US</td><td>47056516</td><td>R3LDM9VXY9P0YF</td><td>B015YCHLHS</td><td>284941731</td><td>Wacoal Women&apos;s B Smooth Hi-Cut Brief Panty, High/Rise, 2X-Large</td></tr><tr><th>23</th><td>US</td><td>13199215</td><td>RC5YEJZ25CHQP</td><td>B015OHQNL8</td><td>922970168</td><td>Glamorise Women&apos;s #1006 Full-Figure Sports Bra</td></tr><tr><th>24</th><td>US</td><td>13419529</td><td>R2Q9269XM2HQ0S</td><td>B0151Z12GO</td><td>734090834</td><td>Levi&apos;s Men&apos;s 501 Original-Fit Jean</td></tr><tr><th>25</th><td>US</td><td>38675394</td><td>R1SOGXVSM19FHD</td><td>B014WCV7JY</td><td>822102569</td><td>Jerzees Men&apos;s Super Sweats Crew Neck Sweatshirt</td></tr><tr><th>26</th><td>US</td><td>30740886</td><td>R2Y9D90DJYIPF3</td><td>B014WBIGKI</td><td>539149357</td><td>Gildan Men&apos;s Heavy Blend Crewneck Sweatshirt - Large - White</td></tr><tr><th>27</th><td>US</td><td>2457386</td><td>RKZA73V49HLSF</td><td>B014PKNCGE</td><td>53890656</td><td>New Womens Long Sleeve Blouse Tops Round Neck Plaid Checked Loose Shirt</td></tr><tr><th>28</th><td>US</td><td>22116819</td><td>R3R04PVN99PTJX</td><td>B014MSSP66</td><td>494754914</td><td>SEOBEAN Mens Low Rise Sexy Sport Swimwear Trunk Boxer Brief Bikini Swimsuit</td></tr><tr><th>29</th><td>US</td><td>47482829</td><td>R2Q9IFUWBLQSJP</td><td>B014M5N1WW</td><td>155078450</td><td>Flowy Womens Mommy Strong Sexy Racerback Gym Tank Top Funny Threadz Shirt</td></tr><tr><th>30</th><td>US</td><td>48401445</td><td>R23AXPXH0CUCTZ</td><td>B014LL6750</td><td>949354237</td><td>The North Face Women&apos;s ThermoBall Hybrid Hoodie - Magic Magenta</td></tr><tr><th>&vellip;</th><td>&vellip;</td><td>&vellip;</td><td>&vellip;</td><td>&vellip;</td><td>&vellip;</td><td>&vellip;</td></tr></tbody></table></div>"
      ],
      "text/latex": [
       "\\begin{tabular}{r|ccccccc}\n",
       "\t& marketplace & customer\\_id & review\\_id & product\\_id & product\\_parent & product\\_title & \\\\\n",
       "\t\\hline\n",
       "\t& String3 & Int64 & String15 & String15 & Int64 & String & \\\\\n",
       "\t\\hline\n",
       "\t1 & US & 32158956 & R1KKOXHNI8MSXU & B01KL6O72Y & 24485154 & Easy Tool Stainless Steel Fruit Pineapple Corer Slicer Peeler Cut (One size, sliver) & $\\dots$ \\\\\n",
       "\t2 & US & 2714559 & R26SP2OPDK4HT7 & B01ID3ZS5W & 363128556 & V28 Women Cowl Neck Knit Stretchable Elasticity Long Sleeve Slim Fit Sweater Dress & $\\dots$ \\\\\n",
       "\t3 & US & 12608825 & RWQEDYAX373I1 & B01I497BGY & 811958549 & James Fiallo Men's 12-Pairs Low Cut Athletic Sport Socks & $\\dots$ \\\\\n",
       "\t4 & US & 25482800 & R231YI7R4GPF6J & B01HDXFZK6 & 692205728 & Belfry Gangster 100\\% Wool Stain-Resistant Crushable Dress Fedora in 4 Colors & $\\dots$ \\\\\n",
       "\t5 & US & 9310286 & R3KO3W45DD0L1K & B01G6MBEBY & 431150422 & JAEDEN Women's Beaded Spaghetti Straps Sexy Long Formal Prom Evening Dresses & $\\dots$ \\\\\n",
       "\t6 & US & 26631939 & R1C4QH63NFL5NJ & B01FWRXN0Y & 366144407 & Levi's Boys' 514 Straight Fit Jeans & $\\dots$ \\\\\n",
       "\t7 & US & 48785098 & R2GP65O1U9N7BP & B01EXNH1HE & 786052021 & Minimalist Wallet \\& Credit Card Holder Men with Slim Design by Raw & $\\dots$ \\\\\n",
       "\t8 & US & 39548589 & R3O29CT5MQQ3XQ & B01E7OL09O & 108920964 & Harriton Men's Barbados Textured Camp Shirt & $\\dots$ \\\\\n",
       "\t9 & US & 29355866 & R1ZECD2AA8QFF6 & B01DXHX81O & 317132458 & Jockey Women's Underwear Supersoft Brief - 3 Pack & $\\dots$ \\\\\n",
       "\t10 & US & 27477484 & R2S79GCF6J89OA & B01DDULIJK & 110598191 & Alexander Del Rossa Mens Satin Pajamas, Short V-Neck Pj Set & $\\dots$ \\\\\n",
       "\t11 & US & 17685865 & R1CBCUGNP37MPK & B01BOKOL4A & 121408017 & Jockey Women's Underwear Elance Brief - 3 Pack & $\\dots$ \\\\\n",
       "\t12 & US & 19787539 & R3NU4WUR5ZNV1V & B01B3Q4Q0O & 134506082 & Bali Passion For Comfort Minimizer Underwire Bra & $\\dots$ \\\\\n",
       "\t13 & US & 44196725 & R32EPCJ3XF8LGE & B01ADDSL9U & 747539045 & Lilyette Women's Enchantment Three-Section Unlined Minimizer Underwire Bra & $\\dots$ \\\\\n",
       "\t14 & US & 45510794 & R1XIBC6WQBW31M & B019P1X5XI & 696379847 & Vanity Fair Women's Perfectly Yours Ravissant Tailored Brief Panty & $\\dots$ \\\\\n",
       "\t15 & US & 42025740 & R1P11MVDZ65LMH & B019MDXIXG & 387286513 & Warner's Women's No Wedgies No Worries Modern Brief Panty & $\\dots$ \\\\\n",
       "\t16 & US & 27097189 & R1OJA3DJL0VDDK & B019438FEG & 764190574 & Columbia Women's Benton Springs Full-Zip Fleece Jacket & $\\dots$ \\\\\n",
       "\t17 & US & 13808904 & R1THWA5YRJLOOF & B0178HGNIA & 816266887 & Robes King RK Classical Sleepwear Mens Broadcloth Woven Pajama Set & $\\dots$ \\\\\n",
       "\t18 & US & 30225894 & R738LCNRSJVXP & B016VIU0QI & 323924698 & VIV Collection Best Selling Printed Brushed Leggings Plus Size (L - XXL) Listing 1 & $\\dots$ \\\\\n",
       "\t19 & US & 45223824 & R1N3Z13931J3O9 & B016PUU3VO & 893588059 & Fruit of the Loom Boys' A-Shirt (Pack of 4) & $\\dots$ \\\\\n",
       "\t20 & US & 22300783 & R1LBNTP7E8N89Z & B016AQNDM4 & 917361125 & Jockey Scrubs Womens Maximum Comfort Pant & $\\dots$ \\\\\n",
       "\t21 & US & 27454671 & R2HF25IURR6YT4 & B01694YS8K & 708072532 & Angelina Womens Cozy Pajama Set & $\\dots$ \\\\\n",
       "\t22 & US & 47056516 & R3LDM9VXY9P0YF & B015YCHLHS & 284941731 & Wacoal Women's B Smooth Hi-Cut Brief Panty, High/Rise, 2X-Large & $\\dots$ \\\\\n",
       "\t23 & US & 13199215 & RC5YEJZ25CHQP & B015OHQNL8 & 922970168 & Glamorise Women's \\#1006 Full-Figure Sports Bra & $\\dots$ \\\\\n",
       "\t24 & US & 13419529 & R2Q9269XM2HQ0S & B0151Z12GO & 734090834 & Levi's Men's 501 Original-Fit Jean & $\\dots$ \\\\\n",
       "\t25 & US & 38675394 & R1SOGXVSM19FHD & B014WCV7JY & 822102569 & Jerzees Men's Super Sweats Crew Neck Sweatshirt & $\\dots$ \\\\\n",
       "\t26 & US & 30740886 & R2Y9D90DJYIPF3 & B014WBIGKI & 539149357 & Gildan Men's Heavy Blend Crewneck Sweatshirt - Large - White & $\\dots$ \\\\\n",
       "\t27 & US & 2457386 & RKZA73V49HLSF & B014PKNCGE & 53890656 & New Womens Long Sleeve Blouse Tops Round Neck Plaid Checked Loose Shirt & $\\dots$ \\\\\n",
       "\t28 & US & 22116819 & R3R04PVN99PTJX & B014MSSP66 & 494754914 & SEOBEAN Mens Low Rise Sexy Sport Swimwear Trunk Boxer Brief Bikini Swimsuit & $\\dots$ \\\\\n",
       "\t29 & US & 47482829 & R2Q9IFUWBLQSJP & B014M5N1WW & 155078450 & Flowy Womens Mommy Strong Sexy Racerback Gym Tank Top Funny Threadz Shirt & $\\dots$ \\\\\n",
       "\t30 & US & 48401445 & R23AXPXH0CUCTZ & B014LL6750 & 949354237 & The North Face Women's ThermoBall Hybrid Hoodie - Magic Magenta & $\\dots$ \\\\\n",
       "\t$\\dots$ & $\\dots$ & $\\dots$ & $\\dots$ & $\\dots$ & $\\dots$ & $\\dots$ &  \\\\\n",
       "\\end{tabular}\n"
      ],
      "text/plain": [
       "\u001b[1m5881951×22 DataFrame\u001b[0m\n",
       "\u001b[1m     Row \u001b[0m│\u001b[1m marketplace \u001b[0m\u001b[1m customer_id \u001b[0m\u001b[1m review_id      \u001b[0m\u001b[1m product_id \u001b[0m\u001b[1m product_paren\u001b[0m ⋯\n",
       "\u001b[1m         \u001b[0m│\u001b[90m String3     \u001b[0m\u001b[90m Int64       \u001b[0m\u001b[90m String15       \u001b[0m\u001b[90m String15   \u001b[0m\u001b[90m Int64        \u001b[0m ⋯\n",
       "─────────┼──────────────────────────────────────────────────────────────────────\n",
       "       1 │ US              32158956  R1KKOXHNI8MSXU  B01KL6O72Y        2448515 ⋯\n",
       "       2 │ US               2714559  R26SP2OPDK4HT7  B01ID3ZS5W       36312855\n",
       "       3 │ US              12608825  RWQEDYAX373I1   B01I497BGY       81195854\n",
       "       4 │ US              25482800  R231YI7R4GPF6J  B01HDXFZK6       69220572\n",
       "       5 │ US               9310286  R3KO3W45DD0L1K  B01G6MBEBY       43115042 ⋯\n",
       "       6 │ US              26631939  R1C4QH63NFL5NJ  B01FWRXN0Y       36614440\n",
       "       7 │ US              48785098  R2GP65O1U9N7BP  B01EXNH1HE       78605202\n",
       "       8 │ US              39548589  R3O29CT5MQQ3XQ  B01E7OL09O       10892096\n",
       "       9 │ US              29355866  R1ZECD2AA8QFF6  B01DXHX81O       31713245 ⋯\n",
       "      10 │ US              27477484  R2S79GCF6J89OA  B01DDULIJK       11059819\n",
       "      11 │ US              17685865  R1CBCUGNP37MPK  B01BOKOL4A       12140801\n",
       "    ⋮    │      ⋮            ⋮             ⋮             ⋮             ⋮       ⋱\n",
       " 5881942 │ US              45307128  R3RLUPTMQTO663  0000032034         569469\n",
       " 5881943 │ US              21291540  R3T3ZDI9DP37QT  0000032034         569469 ⋯\n",
       " 5881944 │ US              15056847  R72JS4DLXX6HC   0000032034         569469\n",
       " 5881945 │ US              24181641  R3DKTHZHWAE2DE  0000032034         569469\n",
       " 5881946 │ US              14805203  R13L3OFZP8W4KA  0000032034         569469\n",
       " 5881947 │ US              41086556  R3638LBLGKMM2S  0000032034         569469 ⋯\n",
       " 5881948 │ US              20641436  RP5AEIYZM5BUW   0000032034         569469\n",
       " 5881949 │ US              46003968  R3PB8K42BMNI40  0000032034         569469\n",
       " 5881950 │ US              10988987  R2PK1N9NG1JM4C  0000032034         569469\n",
       " 5881951 │ US              47148712  R2ORDL3TCNYNHC  0000032034         569469 ⋯\n",
       "\u001b[36m                                             18 columns and 5881930 rows omitted\u001b[0m"
      ]
     },
     "execution_count": 3,
     "metadata": {},
     "output_type": "execute_result"
    }
   ],
   "source": [
    "df = DataFrame(CSV.File(\"/home/joelkik/HPC/Project/Data/amazon_reviews_us_Apparel_v1_00.tsv\"))"
   ]
  },
  {
   "cell_type": "code",
   "execution_count": 4,
   "metadata": {},
   "outputs": [],
   "source": [
    "docs=[]\n",
    "for i in 1:nrow(df)\n",
    "    if typeof(df.review_body[i])==String\n",
    "        sd=TokenDocument(df.review_body[i])\n",
    "        prepare!(sd, strip_stopwords)\n",
    "        prepare!(sd, strip_non_letters)\n",
    "        push!(docs, sd) \n",
    "    end\n",
    "end"
   ]
  },
  {
   "cell_type": "code",
   "execution_count": 5,
   "metadata": {},
   "outputs": [
    {
     "name": "stdout",
     "output_type": "stream",
     "text": [
      "5881177\n"
     ]
    }
   ],
   "source": [
    "println(length(docs))\n",
    "termDict=Dict()\n",
    "docTerm=Dict()\n",
    "docTermCount=[]\n",
    "for i in 1:length(docs)\n",
    "    dt=Dict()\n",
    "    for t in docs[i].tokens\n",
    "        if haskey(termDict, t)\n",
    "            termDict[t]=termDict[t]+1\n",
    "        else\n",
    "            termDict[t]=1\n",
    "        end\n",
    "        if haskey(docTerm, t)\n",
    "            push!(docTerm[t], i)\n",
    "        else\n",
    "            docTerm[t]=Set(i)\n",
    "        end\n",
    "        if haskey(dt, t)\n",
    "            dt[t]=dt[t]+1\n",
    "        else\n",
    "            dt[t]=1\n",
    "        end\n",
    "    end\n",
    "    push!(docTermCount, dt)\n",
    "end\n"
   ]
  },
  {
   "cell_type": "code",
   "execution_count": 6,
   "metadata": {},
   "outputs": [],
   "source": [
    "#termDict"
   ]
  },
  {
   "cell_type": "code",
   "execution_count": null,
   "metadata": {},
   "outputs": [],
   "source": []
  },
  {
   "cell_type": "code",
   "execution_count": 7,
   "metadata": {},
   "outputs": [],
   "source": [
    "#docTermCount"
   ]
  },
  {
   "cell_type": "code",
   "execution_count": 8,
   "metadata": {},
   "outputs": [],
   "source": [
    "IDF=Dict()\n",
    "for (k,v) in docTerm\n",
    "    IDF[k]=log2(length(docs)/length(v))\n",
    "end"
   ]
  },
  {
   "cell_type": "code",
   "execution_count": null,
   "metadata": {},
   "outputs": [],
   "source": []
  },
  {
   "cell_type": "code",
   "execution_count": 9,
   "metadata": {},
   "outputs": [],
   "source": [
    "tf_idf=[]\n",
    "for i in 1:length(docs)\n",
    "    dt=Dict()\n",
    "    for (k,v) in docTermCount[i]\n",
    "        dt[k]=v*IDF[k]\n",
    "    end\n",
    "    push!(tf_idf, dt)\n",
    "end"
   ]
  },
  {
   "cell_type": "code",
   "execution_count": 10,
   "metadata": {},
   "outputs": [],
   "source": [
    "#tf_idf"
   ]
  },
  {
   "cell_type": "code",
   "execution_count": 11,
   "metadata": {},
   "outputs": [
    {
     "data": {
      "text/plain": [
       "13:09:48.283"
      ]
     },
     "execution_count": 11,
     "metadata": {},
     "output_type": "execute_result"
    }
   ],
   "source": [
    "endTime = Dates.Time(Dates.now()) "
   ]
  },
  {
   "cell_type": "code",
   "execution_count": 12,
   "metadata": {},
   "outputs": [
    {
     "name": "stdout",
     "output_type": "stream",
     "text": [
      "Time Taken: 2291527000000 nanoseconds\n"
     ]
    }
   ],
   "source": [
    "println(\"Time Taken: \", endTime-startTime)"
   ]
  },
  {
   "cell_type": "code",
   "execution_count": null,
   "metadata": {},
   "outputs": [],
   "source": []
  }
 ],
 "metadata": {
  "kernelspec": {
   "display_name": "Julia 1.6.1",
   "language": "julia",
   "name": "julia-1.6"
  },
  "language_info": {
   "file_extension": ".jl",
   "mimetype": "application/julia",
   "name": "julia",
   "version": "1.6.1"
  }
 },
 "nbformat": 4,
 "nbformat_minor": 4
}

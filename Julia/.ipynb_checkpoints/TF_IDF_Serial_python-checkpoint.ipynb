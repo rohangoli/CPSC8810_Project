{
 "cells": [
  {
   "cell_type": "code",
   "execution_count": 1,
   "metadata": {},
   "outputs": [
    {
     "name": "stderr",
     "output_type": "stream",
     "text": [
      "[nltk_data] Downloading package stopwords to\n",
      "[nltk_data]     /home/joelkik/nltk_data...\n",
      "[nltk_data]   Package stopwords is already up-to-date!\n",
      "[nltk_data] Downloading package punkt to /home/joelkik/nltk_data...\n",
      "[nltk_data]   Package punkt is already up-to-date!\n"
     ]
    },
    {
     "data": {
      "text/plain": [
       "131072"
      ]
     },
     "execution_count": 1,
     "metadata": {},
     "output_type": "execute_result"
    }
   ],
   "source": [
    "import csv\n",
    "from nltk.corpus import stopwords\n",
    "from nltk.tokenize import word_tokenize\n",
    "import nltk\n",
    "import math\n",
    "import datetime\n",
    "import sys\n",
    "nltk.download('stopwords')\n",
    "nltk.download('punkt')\n",
    "csv.field_size_limit(sys.maxsize)"
   ]
  },
  {
   "cell_type": "code",
   "execution_count": 2,
   "metadata": {},
   "outputs": [],
   "source": [
    "stTime=datetime.datetime.now()"
   ]
  },
  {
   "cell_type": "code",
   "execution_count": 3,
   "metadata": {},
   "outputs": [],
   "source": [
    "rows=[]\n",
    "with open(\"Data/amazon_reviews_us_Apparel_v1_00.tsv\") as file:\n",
    "    tsv_file = csv.reader(file, delimiter=\"\\t\")\n",
    "    for line in tsv_file:\n",
    "        rows.append(line[-2])\n",
    "rows=rows[1:]"
   ]
  },
  {
   "cell_type": "code",
   "execution_count": 4,
   "metadata": {},
   "outputs": [],
   "source": [
    "#rows"
   ]
  },
  {
   "cell_type": "code",
   "execution_count": 5,
   "metadata": {},
   "outputs": [],
   "source": [
    "stop_words = set(stopwords.words('english'))\n",
    "word_tokens = word_tokenize(rows[1])"
   ]
  },
  {
   "cell_type": "code",
   "execution_count": null,
   "metadata": {},
   "outputs": [],
   "source": [
    "docs=[]\n",
    "for i in range(0, len(rows)):\n",
    "    word_tokens = word_tokenize(rows[i])\n",
    "    filtered_sentence = [w for w in word_tokens if not w.lower() in stop_words]\n",
    "    docs.append(filtered_sentence)\n"
   ]
  },
  {
   "cell_type": "code",
   "execution_count": null,
   "metadata": {},
   "outputs": [],
   "source": [
    "\n",
    "termDict=dict()\n",
    "docTerm=dict()\n",
    "docTermCount=[]\n",
    "for i in range(len(docs)):\n",
    "    dt=dict()\n",
    "    for t in docs[i]:\n",
    "        if t in termDict:\n",
    "            termDict[t]=termDict[t]+1\n",
    "        else:\n",
    "            termDict[t]=1\n",
    "            \n",
    "        if t in docTerm:\n",
    "            docTerm[t].append(i)\n",
    "        else:\n",
    "            docTerm[t]=[i]\n",
    "        \n",
    "        if t in dt:\n",
    "            dt[t]=dt[t]+1\n",
    "        else:\n",
    "            dt[t]=1\n",
    "            \n",
    "    docTermCount.append(dt)\n",
    "\n"
   ]
  },
  {
   "cell_type": "code",
   "execution_count": null,
   "metadata": {},
   "outputs": [],
   "source": [
    "IDF=dict()\n",
    "for k in docTerm:\n",
    "    v=docTerm[k]\n",
    "    IDF[k]=math.log2(len(docs)/len(v))\n"
   ]
  },
  {
   "cell_type": "code",
   "execution_count": 9,
   "metadata": {},
   "outputs": [],
   "source": [
    "tf_idf=[]\n",
    "for i in range(len(docs)):\n",
    "    dt=dict()\n",
    "    for k in docTermCount[i]:\n",
    "        v=docTermCount[i][k]\n",
    "        dt[k]=v*IDF[k]\n",
    "    tf_idf.append(dt)\n"
   ]
  },
  {
   "cell_type": "code",
   "execution_count": 10,
   "metadata": {},
   "outputs": [],
   "source": [
    "eTime=datetime.datetime.now()"
   ]
  },
  {
   "cell_type": "code",
   "execution_count": 11,
   "metadata": {},
   "outputs": [
    {
     "name": "stdout",
     "output_type": "stream",
     "text": [
      "Time Taken: 1715 Seconds\n"
     ]
    }
   ],
   "source": [
    "print(\"Time Taken: {} Seconds\".format((eTime-stTime).seconds))"
   ]
  },
  {
   "cell_type": "code",
   "execution_count": null,
   "metadata": {},
   "outputs": [],
   "source": []
  }
 ],
 "metadata": {
  "kernelspec": {
   "display_name": "Python 3",
   "language": "python",
   "name": "python3"
  },
  "language_info": {
   "codemirror_mode": {
    "name": "ipython",
    "version": 3
   },
   "file_extension": ".py",
   "mimetype": "text/x-python",
   "name": "python",
   "nbconvert_exporter": "python",
   "pygments_lexer": "ipython3",
   "version": "3.7.4"
  }
 },
 "nbformat": 4,
 "nbformat_minor": 4
}
